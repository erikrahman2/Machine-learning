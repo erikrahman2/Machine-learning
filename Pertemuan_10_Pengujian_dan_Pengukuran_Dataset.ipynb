{
  "cells": [
    {
      "cell_type": "markdown",
      "metadata": {
        "id": "QFMY-Jjldkvc"
      },
      "source": [
        "# Pertemuan 10 - Pengujian dan Pengukuran Dataset\n",
        "\n",
        "## Capaian Pembelajaran:\n",
        "> 4.1: Mampu menguji dan mengukur karakteristik dataset, termasuk distribusi data, outliers, dan missing values menggunakan pustaka seperti Pandas, NumPy, dan lain-lain dalam bahasa pemrograman Python\n",
        "\n",
        "## Pokok Bahasan\n",
        "1. Analisis Dataset\n",
        "2. Distribusi Data\n",
        "3. Identifikasi Outliers\n",
        "4. Penanganan Missing Values\n",
        "5. Pengujian Dataset\n",
        "6. Pengukuran Dataset\n",
        "7. Early Stopping\n",
        "8. Overfitting"
      ]
    },
    {
      "cell_type": "markdown",
      "metadata": {
        "id": "Mg0DlaTCdkvh"
      },
      "source": [
        "## 1. Analisis Dataset\n",
        "Analisis dataset adalah langkah penting dalam proses pemodelan data. Tujuannya adalah untuk memahami struktur, distribusi, dan karakteristik dataset, serta untuk mengidentifikasi masalah potensial yang perlu ditangani sebelum membangun model machine learning. Analisis dataset melibatkan beberapa langkah utama seperti eksplorasi data, visualisasi data, analisis statistik, dan penanganan data yang hilang atau tidak valid.\n",
        "\n",
        "### Langkah-langkah Analisis Dataset\n",
        "1. Eksplorasi Data (Data Exploration): Memahami Struktur Data: Melihat bentuk dan ukuran dataset, jenis fitur (numerik, kategorikal), dan tipe data. Melihat Data Sekilas: Menggunakan fungsi seperti head(), tail(), info(), dan describe() untuk melihat ringkasan dataset.\n",
        "2. Visualisasi Data (Data Visualization): Visualisasi Distribusi: Menggunakan histogram, boxplot, dan density plot untuk melihat distribusi setiap fitur. Visualisasi Hubungan: Menggunakan scatter plot, pair plot, dan heatmap untuk melihat hubungan antara fitur. Visualisasi Kategori: Menggunakan bar plot dan count plot untuk melihat distribusi data kategorikal.\n",
        "3. Analisis Statistik: Statistik Deskriptif: Menghitung statistik deskriptif seperti mean, median, modus, standar deviasi, dan korelasi. Uji Hipotesis: Menggunakan uji statistik seperti uji t, uji chi-square, dan ANOVA untuk memahami hubungan antara fitur.\n",
        "4. Penanganan Data yang Hilang dan Tidak Valid: Mengidentifikasi Missing Values: Melihat jumlah dan distribusi nilai yang hilang. Mengimputasi Missing Values: Mengisi nilai yang hilang dengan mean, median, modus, atau menggunakan teknik imputasi lanjutan. Mengidentifikasi dan Mengatasi Outliers: Menggunakan teknik statistik dan visualisasi untuk mengidentifikasi dan menangani outliers.\n",
        "5. Feature Engineering: Membuat Fitur Baru: Membuat fitur baru yang dapat membantu model memahami data dengan lebih baik Normalisasi dan Standarisasi: Mengubah skala fitur untuk memastikan model bekerja dengan baik."
      ]
    },
    {
      "cell_type": "markdown",
      "metadata": {
        "id": "pLg49-TNdkvi"
      },
      "source": [
        "### Contoh Implementasi Analisis Dataset"
      ]
    },
    {
      "cell_type": "code",
      "execution_count": null,
      "metadata": {
        "id": "jK7SUNBvdkvi"
      },
      "outputs": [],
      "source": [
        "import pandas as pd\n",
        "import numpy as np\n",
        "import matplotlib.pyplot as plt\n",
        "import seaborn as sns\n",
        "\n",
        "# Membaca dataset\n",
        "df = pd.read_csv('data.csv')\n",
        "\n",
        "# Melihat struktur data\n",
        "print(\"Shape of the dataset:\", df.shape)\n",
        "print(\"\\nInfo about the dataset:\")\n",
        "print(df.info())\n",
        "\n",
        "# Melihat data sekilas\n",
        "print(\"\\nFirst few rows of the dataset:\")\n",
        "print(df.head())\n",
        "print(\"\\nStatistical summary of the dataset:\")\n",
        "print(df.describe())\n",
        "\n",
        "# Visualisasi distribusi\n",
        "plt.figure(figsize=(10, 6))\n",
        "sns.histplot(df['Age'], bins=30, kde=True)\n",
        "plt.title('Distribusi Age')\n",
        "plt.xlabel('Age')\n",
        "plt.ylabel('Frequency')\n",
        "plt.show()\n",
        "\n",
        "# Visualisasi hubungan\n",
        "plt.figure(figsize=(10, 6))\n",
        "sns.scatterplot(x='Age', y='Income', data=df)\n",
        "plt.title('Hubungan Age dan Income')\n",
        "plt.xlabel('Age')\n",
        "plt.ylabel('Income')\n",
        "plt.show()\n",
        "\n",
        "# Visualisasi kategori\n",
        "plt.figure(figsize=(10, 6))\n",
        "sns.countplot(x='Gender', data=df)\n",
        "plt.title('Distribusi Gender')\n",
        "plt.xlabel('Gender')\n",
        "plt.ylabel('Count')\n",
        "plt.show()\n",
        "\n",
        "# Analisis statistik\n",
        "print(\"\\nCorrelation matrix:\")\n",
        "print(df.corr())\n",
        "\n",
        "# Mengidentifikasi missing values\n",
        "print(\"\\nMissing values in each column:\")\n",
        "print(df.isnull().sum())\n",
        "\n",
        "# Mengimputasi missing values dengan mean\n",
        "df['Age'].fillna(df['Age'].mean(), inplace=True)\n",
        "\n",
        "# Mengidentifikasi outliers dengan boxplot\n",
        "plt.figure(figsize=(10, 6))\n",
        "sns.boxplot(x=df['Age'])\n",
        "plt.title('Boxplot Age')\n",
        "plt.xlabel('Age')\n",
        "plt.show()\n",
        "\n",
        "# Normalisasi fitur numerik\n",
        "from sklearn.preprocessing import StandardScaler\n",
        "\n",
        "scaler = StandardScaler()\n",
        "df[['Age', 'Income']] = scaler.fit_transform(df[['Age', 'Income']])\n",
        "\n",
        "# Membuat fitur baru\n",
        "df['Age_Income_Ratio'] = df['Age'] / df['Income']\n",
        "\n",
        "# Melihat data setelah preprocessing\n",
        "print(\"\\nFirst few rows of the dataset after preprocessing:\")\n",
        "print(df.head())"
      ]
    },
    {
      "cell_type": "markdown",
      "metadata": {
        "id": "0lS5pfpMdkvk"
      },
      "source": [
        "## 2. Distribusi Data\n",
        "Distribusi data mengacu pada cara nilai-nilai dalam dataset tersebar atau terdistribusi di sepanjang rentang nilainya. Memahami distribusi data penting dalam analisis statistik karena dapat memberikan wawasan tentang karakteristik data seperti pusat data (mean, median), sebaran data (deviasi standar), serta kecenderungan atau anomali dalam data.\n",
        "\n",
        "### Jenis Distribusi Data\n",
        "#### a. Distribusi Normal (Gaussian)\n",
        "Distribusi normal adalah distribusi simetris di sekitar mean, di mana sebagian besar nilai berpusat di sekitar mean dengan sedikit nilai yang tersebar di kedua ekstrem. Contoh: Tinggi badan manusia, berat badan dalam populasi tertentu.\n",
        "![Normal_Distribution_PDF.svg.png](attachment:Normal_Distribution_PDF.svg.png)\n",
        "\n",
        "\n",
        "#### b. Distribusi Uniform\n",
        "Distribusi uniform terjadi ketika setiap nilai dalam rentang memiliki probabilitas yang sama untuk muncul, sehingga bentuknya menjadi persegi atau datar. Contoh: Hasil dari pelemparan koin (nilai 0 atau 1), atau hasil pelemparan dadu (nilai 1 hingga 6).\n",
        "![Uniform_Distribution_PDF_SVG.svg.png](attachment:Uniform_Distribution_PDF_SVG.svg.png)\n",
        "\n",
        "\n",
        "#### c. Distribusi Binomial\n",
        "Distribusi binomial muncul ketika ada dua hasil yang mungkin dari suatu percobaan (berhasil atau gagal), dengan sejumlah percobaan yang tetap. Contoh: Hasil dari serangkaian percobaan yang terdiri dari dua kemungkinan hasil (misalnya, hasil ujian dengan jawaban benar atau salah).\n",
        "![Binomial Distribution](Binomial_distribution_pmf.svg.png)\n",
        "\n",
        "\n",
        "#### d. Distribusi Poisson\n",
        "Distribusi Poisson digunakan untuk menggambarkan jumlah peristiwa yang terjadi dalam interval waktu atau ruang tertentu, dengan angka rata-rata kejadian yang diketahui dan independen dari waktu sebelumnya. Contoh: Jumlah panggilan ke pusat layanan pelanggan dalam satu jam.\n",
        "![Poisson_pmf.svg.png](attachment:Poisson_pmf.svg.png)\n",
        "____"
      ]
    },
    {
      "cell_type": "markdown",
      "metadata": {
        "id": "fL8wyL4jdkvk"
      },
      "source": [
        "#### Mengidentifikasi Distribusi Data\n",
        "Untuk mengidentifikasi distribusi data, Anda dapat menggunakan beberapa teknik berikut:"
      ]
    },
    {
      "cell_type": "markdown",
      "metadata": {
        "id": "vbITLexxdkvk"
      },
      "source": [
        "#### a. Histogram\n",
        "Digunakan untuk melihat distribusi data numerik dengan membagi rentang nilai menjadi beberapa interval dan menghitung jumlah observasi di setiap interval."
      ]
    },
    {
      "cell_type": "code",
      "execution_count": null,
      "metadata": {
        "id": "ulU-7ZN8dkvl",
        "outputId": "f992f490-5010-48a5-f132-f1b78e82fc72"
      },
      "outputs": [
        {
          "data": {
            "image/png": "[encoded data removed]",
            "text/plain": [
              "<Figure size 1000x600 with 1 Axes>"
            ]
          },
          "metadata": {},
          "output_type": "display_data"
        }
      ],
      "source": [
        "import matplotlib.pyplot as plt\n",
        "import seaborn as sns\n",
        "import numpy as np\n",
        "\n",
        "# Generate data from a normal distribution\n",
        "data_normal = np.random.normal(loc=0, scale=1, size=1000)\n",
        "\n",
        "# Plot histogram\n",
        "plt.figure(figsize=(10, 6))\n",
        "sns.histplot(data_normal, bins=30, kde=True)\n",
        "plt.title('Histogram of Normal Distribution')\n",
        "plt.xlabel('Values')\n",
        "plt.ylabel('Frequency')\n",
        "plt.show()\n"
      ]
    },
    {
      "cell_type": "markdown",
      "metadata": {
        "id": "Ngb-hPUQdkvm"
      },
      "source": [
        "#### b. Density Plot\n",
        "Mirip dengan histogram, tetapi menggunakan kurva kernel (kernel density estimation, KDE) untuk menunjukkan distribusi data secara kontinu."
      ]
    },
    {
      "cell_type": "code",
      "execution_count": null,
      "metadata": {
        "id": "Q3ssqF4mdkvm"
      },
      "outputs": [],
      "source": [
        "# Plot density plot\n",
        "plt.figure(figsize=(10, 6))\n",
        "sns.kdeplot(data_normal, shade=True)\n",
        "plt.title('Density Plot of Normal Distribution')\n",
        "plt.xlabel('Values')\n",
        "plt.ylabel('Density')\n",
        "plt.show()\n"
      ]
    },
    {
      "cell_type": "markdown",
      "metadata": {
        "id": "tQq_vHORdkvn"
      },
      "source": [
        "#### c. Boxplot\n",
        "Boxplot Digunakan untuk melihat distribusi data serta mengidentifikasi outlier."
      ]
    },
    {
      "cell_type": "code",
      "execution_count": null,
      "metadata": {
        "id": "F20D7PvSdkvn"
      },
      "outputs": [],
      "source": [
        "# Plot boxplot\n",
        "plt.figure(figsize=(8, 6))\n",
        "sns.boxplot(x=data_normal)\n",
        "plt.title('Boxplot of Normal Distribution')\n",
        "plt.xlabel('Values')\n",
        "plt.show()"
      ]
    },
    {
      "cell_type": "markdown",
      "metadata": {
        "id": "m3JF9zCFdkvn"
      },
      "source": [
        "Memahami distribusi data adalah langkah kunci dalam analisis data, karena memungkinkan kita untuk mengidentifikasi pola, anomali, dan kecenderungan yang ada dalam dataset. Dengan memilih metode visualisasi yang tepat, seperti histogram, density plot, atau boxplot, Anda dapat mendapatkan wawasan yang lebih dalam tentang bagaimana data didistribusikan dan menentukan langkah-langkah selanjutnya dalam analisis atau pemodelan data."
      ]
    },
    {
      "cell_type": "markdown",
      "metadata": {
        "id": "G0yQy_YLdkvn"
      },
      "source": [
        "## 3. Identifikasi Outliers\n",
        "Outliers adalah nilai-nilai dalam dataset yang berada jauh dari sebagian besar nilai lainnya. Mereka dapat menunjukkan kesalahan data, variabilitas yang luar biasa, atau poin data yang sangat berbeda. Mengidentifikasi outliers penting karena mereka dapat sangat mempengaruhi analisis statistik dan model machine learning.\n",
        "\n",
        "#### Mengapa Outliers Penting?\n",
        "- Pengaruh pada Statistik: Outliers dapat mempengaruhi mean, standard deviation, dan nilai lainnya.\n",
        "- Pengaruh pada Model Machine Learning: Outliers dapat mengurangi akurasi model dengan membuat model overfit atau underfit.\n",
        "- Kesalahan Pengukuran: Outliers bisa menjadi indikator adanya kesalahan dalam proses pengumpulan data.\n",
        "\n",
        "#### Metode untuk Mengidentifikasi Outliers\n",
        "##### Visualisasi Data\n",
        "- Boxplot: Menampilkan data berdasarkan kuartil. Outliers biasanya terlihat sebagai titik-titik yang terpisah dari box.\n",
        "- Scatter Plot: Berguna untuk data dua dimensi, outliers terlihat sebagai titik yang jauh dari pola umum data.\n",
        "- Histogram: Membantu melihat distribusi data dan mengidentifikasi nilai yang berada jauh dari distribusi normal.\n",
        "\n",
        "##### Metode Statistik\n",
        "- IQR (Interquartile Range): Nilai yang berada di bawah Q1 - 1.5IQR atau di atas Q3 + 1.5IQR dianggap sebagai outliers.\n",
        "- Z-Score: Menunjukkan seberapa jauh nilai dari mean. Biasanya, nilai dengan z-score di atas 3 atau di bawah -3 dianggap sebagai outliers."
      ]
    },
    {
      "cell_type": "markdown",
      "metadata": {
        "id": "eINpKMlTdkvn"
      },
      "source": [
        "#### Contoh Implementasi Identifikasi Outliers"
      ]
    },
    {
      "cell_type": "code",
      "execution_count": null,
      "metadata": {
        "id": "a3cKvYs3dkvo",
        "outputId": "23ff9f03-0566-4310-d7f0-fcec721ae0e0"
      },
      "outputs": [
        {
          "name": "stdout",
          "output_type": "stream",
          "text": [
            "    Age  Income\n",
            "0    25   50000\n",
            "1    30   80000\n",
            "2    35   60000\n",
            "3    40   70000\n",
            "4   100  200000\n",
            "5    45   75000\n",
            "6    50   80000\n",
            "7    25   50000\n",
            "8    30   80000\n",
            "9    35   60000\n",
            "10   40   70000\n",
            "11   45   75000\n",
            "12   50   80000\n",
            "13  150  300000\n"
          ]
        },
        {
          "data": {
            "image/png": "[encoded data removed]",
            "text/plain": [
              "<Figure size 1000x600 with 1 Axes>"
            ]
          },
          "metadata": {},
          "output_type": "display_data"
        },
        {
          "data": {
            "image/png": "[encoded data removed]",
            "text/plain": [
              "<Figure size 1000x600 with 1 Axes>"
            ]
          },
          "metadata": {},
          "output_type": "display_data"
        },
        {
          "name": "stdout",
          "output_type": "stream",
          "text": [
            "\n",
            "Outliers berdasarkan IQR:\n",
            "    Age  Income\n",
            "4   100  200000\n",
            "13  150  300000\n",
            "\n",
            "Outliers berdasarkan Z-Score:\n",
            "    Age  Income\n",
            "13  150  300000\n"
          ]
        }
      ],
      "source": [
        "import pandas as pd\n",
        "import numpy as np\n",
        "import matplotlib.pyplot as plt\n",
        "import seaborn as sns\n",
        "\n",
        "# Membuat data sampel\n",
        "data = {\n",
        "    'Age': [25, 30, 35, 40, 100, 45, 50, 25, 30, 35, 40, 45, 50, 150],\n",
        "    'Income': [50000, 80000, 60000, 70000, 200000, 75000, 80000, 50000, 80000, 60000, 70000, 75000, 80000, 300000]\n",
        "}\n",
        "\n",
        "# Membuat dataframe\n",
        "df = pd.DataFrame(data)\n",
        "\n",
        "# Menampilkan data\n",
        "print(df)\n",
        "\n",
        "# Visualisasi Boxplot\n",
        "plt.figure(figsize=(10, 6))\n",
        "sns.boxplot(x=df['Age'])\n",
        "plt.title('Boxplot Age')\n",
        "plt.xlabel('Age')\n",
        "plt.show()\n",
        "\n",
        "# Visualisasi Scatter Plot\n",
        "plt.figure(figsize=(10, 6))\n",
        "sns.scatterplot(x='Age', y='Income', data=df)\n",
        "plt.title('Scatter Plot Age vs Income')\n",
        "plt.xlabel('Age')\n",
        "plt.ylabel('Income')\n",
        "plt.show()\n",
        "\n",
        "# Identifikasi Outliers dengan IQR\n",
        "Q1 = df['Age'].quantile(0.25)\n",
        "Q3 = df['Age'].quantile(0.75)\n",
        "IQR = Q3 - Q1\n",
        "\n",
        "outliers_IQR = df[(df['Age'] < (Q1 - 1.5 * IQR)) | (df['Age'] > (Q3 + 1.5 * IQR))]\n",
        "print(\"\\nOutliers berdasarkan IQR:\")\n",
        "print(outliers_IQR)\n",
        "\n",
        "# Identifikasi Outliers dengan Z-Score\n",
        "from scipy import stats\n",
        "\n",
        "z_scores = np.abs(stats.zscore(df['Age']))\n",
        "outliers_z = df[(z_scores > 3)]\n",
        "print(\"\\nOutliers berdasarkan Z-Score:\")\n",
        "print(outliers_z)\n"
      ]
    },
    {
      "cell_type": "markdown",
      "metadata": {
        "id": "FMNHa7Mudkvo"
      },
      "source": [
        "#### Penjelasan Coding\n",
        "1. Boxplot: Boxplot menunjukkan distribusi Age dan outliers sebagai titik-titik di luar garis whisker.\n",
        "2. Scatter Plot: Scatter plot menunjukkan hubungan antara Age dan Income dan memungkinkan identifikasi outliers berdasarkan penyimpangan dari pola umum.\n",
        "3. IQR: Menghitung IQR untuk Age, kemudian menentukan nilai-nilai yang berada di luar Q1 - 1.5IQR dan Q3 + 1.5IQR sebagai outliers.\n",
        "4. Z-Score: Menghitung z-score untuk Age dan menentukan nilai-nilai dengan z-score lebih besar dari 3 atau kurang dari -3 sebagai outliers.\n",
        "\n",
        "Outliers yang diidentifikasi dengan metode IQR dan z-score mungkin berbeda tergantung pada distribusi data. Dengan menggunakan kombinasi metode ini, Anda dapat memperoleh pemahaman yang lebih komprehensif tentang outliers dalam dataset Anda."
      ]
    },
    {
      "cell_type": "markdown",
      "metadata": {
        "id": "wZdfV9PGdkvo"
      },
      "source": [
        "## 4. Penanganan Missing Values\n",
        "Penanganan missing values adalah langkah penting dalam preprocessing data. Data yang hilang dapat menyebabkan bias dalam analisis dan model machine learning, sehingga perlu ditangani dengan benar. Berikut adalah beberapa teknik umum untuk menangani missing values beserta contohnya:\n",
        "\n",
        "#### Teknik Penanganan Missing Values\n",
        "\n",
        "##### a. Menghapus Missing Values\n",
        "- Jika jumlah missing values kecil dan tidak signifikan, data yang hilang dapat dihapus.\n",
        "- df.dropna() menghapus semua baris yang memiliki missing values.\n",
        "- df.dropna(axis=1) menghapus semua kolom yang memiliki missing values.\n",
        "\n",
        "##### b. Mengisi Missing Values\n",
        "Mean/Median/Mode Imputation: Mengisi missing values dengan mean, median, atau mode dari kolom tersebut.\n",
        "- df['column'].fillna(df['column'].mean(), inplace=True)\n",
        "- df['column'].fillna(df['column'].median(), inplace=True)\n",
        "- df['column'].fillna(df['column'].mode()[0], inplace=True)\n",
        "\n",
        "Forward Fill (ffill): Mengisi missing values dengan nilai sebelumnya.\n",
        "- df.fillna(method='ffill', inplace=True)\n",
        "\n",
        "Backward Fill (bfill): Mengisi missing values dengan nilai setelahnya.\n",
        "- df.fillna(method='bfill', inplace=True)\n",
        "\n",
        "Interpolate: Mengisi missing values dengan interpolasi linear.\n",
        "- df.interpolate(method='linear', inplace=True)\n",
        "\n",
        "Menggunakan Model Prediktif\n",
        "  Menggunakan model machine learning untuk memprediksi missing values berdasarkan fitur lain.\n",
        "\n",
        "```python\n",
        "from sklearn.impute import SimpleImputer\n",
        "imputer = SimpleImputer(strategy='mean')\n",
        "df[['column']] = imputer.fit_transform(df[['column']])"
      ]
    },
    {
      "cell_type": "markdown",
      "metadata": {
        "id": "hKkh9qVcdkvo"
      },
      "source": [
        "##### Contoh Implementasi"
      ]
    },
    {
      "cell_type": "code",
      "execution_count": null,
      "metadata": {
        "id": "_7N_k_Tudkvo"
      },
      "outputs": [],
      "source": [
        "import pandas as pd\n",
        "import numpy as np\n",
        "\n",
        "# Membuat data sampel dengan missing values\n",
        "data = {\n",
        "    'Name': ['Alice', 'Bob', 'Charlie', 'David', 'Eve'],\n",
        "    'Age': [25, np.nan, 35, 45, np.nan],\n",
        "    'Income': [50000, 60000, np.nan, 80000, 90000],\n",
        "    'Gender': ['F', 'M', np.nan, 'M', 'F']\n",
        "}\n",
        "\n",
        "# Membuat dataframe\n",
        "df = pd.DataFrame(data)\n",
        "\n",
        "# Menampilkan data\n",
        "print(\"Original DataFrame:\")\n",
        "print(df)\n",
        "\n",
        "# Menghapus baris dengan missing values\n",
        "df_dropna = df.dropna()\n",
        "print(\"\\nDataFrame setelah menghapus baris dengan missing values:\")\n",
        "print(df_dropna)\n",
        "\n",
        "# Mengisi missing values dengan mean (untuk kolom numerik)\n",
        "df['Age'].fillna(df['Age'].mean(), inplace=True)\n",
        "df['Income'].fillna(df['Income'].mean(), inplace=True)\n",
        "print(\"\\nDataFrame setelah mengisi missing values dengan mean:\")\n",
        "print(df)\n",
        "\n",
        "# Mengisi missing values dengan mode (untuk kolom kategorikal)\n",
        "df['Gender'].fillna(df['Gender'].mode()[0], inplace=True)\n",
        "print(\"\\nDataFrame setelah mengisi missing values dengan mode:\")\n",
        "print(df)\n",
        "\n",
        "# Mengisi missing values dengan metode forward fill\n",
        "df_ffill = df.fillna(method='ffill')\n",
        "print(\"\\nDataFrame setelah mengisi missing values dengan forward fill:\")\n",
        "print(df_ffill)\n",
        "\n",
        "# Mengisi missing values dengan metode backward fill\n",
        "df_bfill = df.fillna(method='bfill')\n",
        "print(\"\\nDataFrame setelah mengisi missing values dengan backward fill:\")\n",
        "print(df_bfill)\n",
        "\n",
        "# Mengisi missing values dengan interpolasi\n",
        "df_interpolate = df.interpolate(method='linear')\n",
        "print(\"\\nDataFrame setelah mengisi missing values dengan interpolasi:\")\n",
        "print(df_interpolate)\n"
      ]
    },
    {
      "cell_type": "markdown",
      "metadata": {
        "id": "gLO8AZU2dkvp"
      },
      "source": [
        "## 5. Pengujian Dataset\n",
        "Pengujian dataset adalah langkah penting dalam alur kerja analisis data dan machine learning. Ini mencakup eksplorasi awal untuk memahami struktur data, pemeriksaan konsistensi dan integritas, serta evaluasi kinerja model terhadap data tersebut. Berikut adalah beberapa langkah dan teknik yang digunakan dalam pengujian dataset. Langkah-langkah Pengujian Dataset:\n",
        "\n",
        "### a. Eksplorasi Data (Data Exploration)\n",
        "Memahami Struktur Data: Mengidentifikasi tipe data, jumlah fitur, dan baris. Statistik Deskriptif: Menggunakan statistik deskriptif untuk mendapatkan wawasan awal tentang data. Visualisasi Data: Menggunakan berbagai plot untuk memahami distribusi dan hubungan antar variabel.\n",
        "\n",
        "### b. Pembersihan Data (Data Cleaning)\n",
        "Menangani Missing Values: Mengisi atau menghapus data yang hilang. Mengidentifikasi dan Menghapus Outliers: Menggunakan teknik statistik dan visualisasi untuk mengidentifikasi outliers. Menghapus Duplikat: Menghapus baris yang duplikat untuk memastikan integritas data.\n",
        "\n",
        "### c. Transformasi Data (Data Transformation)\n",
        "Normalisasi/Standarisasi Data: Mengubah skala data sehingga berada dalam rentang tertentu atau memiliki distribusi normal Mengubah Data Kategorikal ke Numerik: Menggunakan teknik seperti one-hot encoding atau label encoding.\n",
        "\n",
        "### d. Splitting Dataset\n",
        "Train-Test Split: Memisahkan dataset menjadi set pelatihan dan pengujian untuk mengevaluasi kinerja model. K-Fold Cross-Validation: Membagi dataset menjadi beberapa bagian untuk validasi silang.\n",
        "\n",
        "### e. Evaluasi Model\n",
        "Metrik Evaluasi: Menggunakan metrik seperti accuracy, precision, recall, F1 score, dan ROC-AUC untuk mengevaluasi model Confusion Matrix: Menyediakan visualisasi performa model dalam klasifikasi."
      ]
    },
    {
      "cell_type": "code",
      "execution_count": null,
      "metadata": {
        "id": "ErC9FA7Ldkvp"
      },
      "outputs": [],
      "source": [
        "# Contoh Implementasi Pengujian Dataset\n",
        "import pandas as pd\n",
        "import numpy as np\n",
        "import matplotlib.pyplot as plt\n",
        "import seaborn as sns\n",
        "from sklearn.model_selection import train_test_split\n",
        "from sklearn.preprocessing import StandardScaler, OneHotEncoder\n",
        "from sklearn.compose import ColumnTransformer\n",
        "from sklearn.metrics import accuracy_score, precision_score, recall_score, f1_score, confusion_matrix\n",
        "from sklearn.linear_model import LogisticRegression\n",
        "\n",
        "# Membuat data sampel\n",
        "data = {\n",
        "    'Age': [25, 30, 35, 40, 100, 45, 50, 25, 30, 35, 40, 45, 50, 150],\n",
        "    'Income': [50000, 80000, 60000, 70000, 200000, 75000, 80000, 50000, 80000, 60000, 70000, 75000, 80000, 300000],\n",
        "    'Gender': ['Male', 'Female', 'Male', 'Female', 'Female', 'Male', 'Male', 'Male', 'Female', 'Male', 'Female', 'Female', 'Male', 'Male'],\n",
        "    'Purchased': ['No', 'Yes', 'No', 'Yes', 'Yes', 'No', 'Yes', 'No', 'Yes', 'No', 'Yes', 'No', 'Yes', 'No']\n",
        "}\n",
        "\n",
        "# Membuat dataframe\n",
        "df = pd.DataFrame(data)\n",
        "\n",
        "# Menampilkan data sekilas\n",
        "print(\"Original DataFrame:\")\n",
        "print(df.head())\n",
        "\n",
        "# Eksplorasi Data\n",
        "print(\"\\nStatistical summary of the dataset:\")\n",
        "print(df.describe())\n",
        "\n",
        "# Visualisasi Data\n",
        "plt.figure(figsize=(10, 6))\n",
        "sns.histplot(df['Age'], bins=30, kde=True)\n",
        "plt.title('Distribusi Age')\n",
        "plt.xlabel('Age')\n",
        "plt.ylabel('Frequency')\n",
        "plt.show()\n",
        "\n",
        "plt.figure(figsize=(10, 6))\n",
        "sns.scatterplot(x='Age', y='Income', data=df)\n",
        "plt.title('Hubungan Age dan Income')\n",
        "plt.xlabel('Age')\n",
        "plt.ylabel('Income')\n",
        "plt.show()\n",
        "\n",
        "plt.figure(figsize=(10, 6))\n",
        "sns.countplot(x='Gender', data=df)\n",
        "plt.title('Distribusi Gender')\n",
        "plt.xlabel('Gender')\n",
        "plt.ylabel('Count')\n",
        "plt.show()\n",
        "\n",
        "# Menangani Missing Values dan Outliers\n",
        "df['Age'].fillna(df['Age'].mean(), inplace=True)\n",
        "df['Income'].fillna(df['Income'].mean(), inplace=True)\n",
        "\n",
        "Q1 = df['Age'].quantile(0.25)\n",
        "Q3 = df['Age'].quantile(0.75)\n",
        "IQR = Q3 - Q1\n",
        "df = df[~((df['Age'] < (Q1 - 1.5 * IQR)) | (df['Age'] > (Q3 + 1.5 * IQR)))]\n",
        "\n",
        "# Transformasi Data\n",
        "X = df[['Age', 'Income', 'Gender']]\n",
        "y = df['Purchased']\n",
        "\n",
        "# Mengubah Data Kategorikal ke Numerik\n",
        "ct = ColumnTransformer(transformers=[('encoder', OneHotEncoder(), ['Gender'])], remainder='passthrough')\n",
        "X = ct.fit_transform(X)\n",
        "\n",
        "# Normalisasi Data\n",
        "sc = StandardScaler()\n",
        "X = sc.fit_transform(X)\n",
        "\n",
        "# Splitting Dataset\n",
        "X_train, X_test, y_train, y_test = train_test_split(X, y, test_size=0.2, random_state=0)\n",
        "\n",
        "# Training Model\n",
        "classifier = LogisticRegression()\n",
        "classifier.fit(X_train, y_train)\n",
        "\n",
        "# Prediksi\n",
        "y_pred = classifier.predict(X_test)\n",
        "\n",
        "# Evaluasi Model\n",
        "accuracy = accuracy_score(y_test, y_pred)\n",
        "precision = precision_score(y_test, y_pred, pos_label='Yes')\n",
        "recall = recall_score(y_test, y_pred, pos_label='Yes')\n",
        "f1 = f1_score(y_test, y_pred, pos_label='Yes')\n",
        "cm = confusion_matrix(y_test, y_pred)\n",
        "\n",
        "print(\"\\nModel Performance:\")\n",
        "print(f\"Accuracy: {accuracy}\")\n",
        "print(f\"Precision: {precision}\")\n",
        "print(f\"Recall: {recall}\")\n",
        "print(f\"F1 Score: {f1}\")\n",
        "print(\"Confusion Matrix:\")\n",
        "print(cm)\n"
      ]
    },
    {
      "cell_type": "markdown",
      "metadata": {
        "id": "0aNUZp4bdkvp"
      },
      "source": [
        "## 6. Pengukuran Dataset\n",
        "Pengukuran dataset adalah proses penting dalam memahami karakteristik dan kualitas data yang kita miliki. Ini melibatkan berbagai langkah untuk mengevaluasi dan memahami struktur, distribusi, serta hubungan antar variabel dalam dataset. Berikut ini adalah langkah-langkah yang biasanya dilakukan dalam pengukuran dataset:\n",
        "\n",
        "#### a. Memahami Struktur Data\n",
        "Langkah pertama adalah memahami struktur dataset, termasuk jumlah baris dan kolom, tipe data dari setiap kolom, dan melihat beberapa baris pertama untuk mendapatkan gambaran umum.\n",
        "\n",
        "#### b. Statistik Deskriptif\n",
        "Statistik deskriptif memberikan ringkasan kuantitatif tentang data. Ini termasuk mean, median, standar deviasi, minimum, maksimum, dan kuartil. Statistik deskriptif membantu dalam memahami distribusi data.\n",
        "\n",
        "#### c. Visualisasi Data\n",
        "Visualisasi data adalah cara efektif untuk melihat distribusi, pola, dan hubungan dalam data. Beberapa visualisasi umum termasuk histogram, box plot, scatter plot, dan heatmap.\n",
        "\n",
        "#### d. Identifikasi Missing Values\n",
        "Mengecek missing values penting untuk memahami kualitas data. Ini termasuk menghitung jumlah missing values di setiap kolom.\n",
        "\n",
        "#### e. Identifikasi Outliers\n",
        "Outliers dapat mempengaruhi analisis data dan model machine learning. Mengidentifikasi outliers dapat dilakukan dengan box plot atau metode statistik lainnya."
      ]
    },
    {
      "cell_type": "markdown",
      "metadata": {
        "id": "TyhsBsiMdkvp"
      },
      "source": [
        "## 7. Early Stopping\n",
        "Early stopping adalah teknik regulasi yang digunakan untuk mencegah overfitting dalam training model machine learning, terutama dalam neural networks dan gradient boosting models. Teknik ini memonitor performa model pada validation set selama training dan menghentikan training ketika performa pada validation set mulai menurun, meskipun performa pada training set masih meningkat. Tujuan utama dari early stopping adalah untuk menemukan titik optimal di mana model tidak lagi meningkatkan kemampuannya untuk generalisasi ke data baru, tetapi malah mulai overfit terhadap data training. Dengan menghentikan training pada titik ini, model diharapkan akan memiliki performa terbaik ketika diaplikasikan ke data baru yang tidak terlihat sebelumnya. Early stopping dapat diimplementasikan dengan berbagai framework machine learning seperti TensorFlow/Keras dan Scikit-learn. Berikut adalah contoh implementasi early stopping dengan Keras dan Scikit-learn."
      ]
    },
    {
      "cell_type": "code",
      "execution_count": null,
      "metadata": {
        "id": "EBoZo5TVdkvp"
      },
      "outputs": [],
      "source": [
        "# Contoh Implementasi dengan Keras\n",
        "import numpy as np\n",
        "from tensorflow.keras.models import Sequential\n",
        "from tensorflow.keras.layers import Dense\n",
        "from tensorflow.keras.callbacks import EarlyStopping\n",
        "\n",
        "# Membuat data sampel\n",
        "X_train = np.random.rand(1000, 20)\n",
        "y_train = np.random.randint(2, size=(1000, 1))\n",
        "X_val = np.random.rand(200, 20)\n",
        "y_val = np.random.randint(2, size=(200, 1))\n",
        "\n",
        "# Membangun model sederhana\n",
        "model = Sequential()\n",
        "model.add(Dense(64, activation='relu', input_dim=20))\n",
        "model.add(Dense(64, activation='relu'))\n",
        "model.add(Dense(1, activation='sigmoid'))\n",
        "\n",
        "# Kompilasi model\n",
        "model.compile(optimizer='adam', loss='binary_crossentropy', metrics=['accuracy'])\n",
        "\n",
        "# Menggunakan early stopping\n",
        "early_stopping = EarlyStopping(monitor='val_loss', patience=5, restore_best_weights=True)\n",
        "\n",
        "# Melatih model\n",
        "history = model.fit(X_train, y_train, epochs=100, batch_size=32, validation_data=(X_val, y_val), callbacks=[early_stopping])\n",
        "\n",
        "# Menampilkan ringkasan model\n",
        "print(model.summary())"
      ]
    },
    {
      "cell_type": "code",
      "execution_count": null,
      "metadata": {
        "id": "5MxHCU9adkvp"
      },
      "outputs": [],
      "source": [
        "# Contoh Implementasi dengan Scikit-learn\n",
        "import numpy as np\n",
        "from sklearn.datasets import make_classification\n",
        "from sklearn.ensemble import GradientBoostingClassifier\n",
        "from sklearn.model_selection import train_test_split\n",
        "from sklearn.metrics import accuracy_score\n",
        "\n",
        "# Membuat data sampel\n",
        "X, y = make_classification(n_samples=1000, n_features=20, n_informative=15, n_redundant=5, random_state=42)\n",
        "X_train, X_val, y_train, y_val = train_test_split(X, y, test_size=0.2, random_state=42)\n",
        "\n",
        "# Membangun model dengan early stopping\n",
        "model = GradientBoostingClassifier(n_estimators=1000, learning_rate=0.01, validation_fraction=0.2, n_iter_no_change=10)\n",
        "\n",
        "# Melatih model\n",
        "model.fit(X_train, y_train)\n",
        "\n",
        "# Prediksi dan evaluasi\n",
        "y_pred = model.predict(X_val)\n",
        "accuracy = accuracy_score(y_val, y_pred)\n",
        "print(f'Validation Accuracy: {accuracy:.4f}')"
      ]
    },
    {
      "cell_type": "markdown",
      "metadata": {
        "id": "CR2XD2-sdkvq"
      },
      "source": [
        "Early stopping adalah teknik regulasi yang efektif untuk mencegah overfitting dalam training model machine learning. Dengan menghentikan training pada saat yang tepat, model dapat mencapai generalisasi yang lebih baik pada data baru. Implementasinya mudah dilakukan dengan menggunakan framework seperti Keras dan Scikit-learn."
      ]
    },
    {
      "cell_type": "markdown",
      "metadata": {
        "id": "BEDggm9mdkvq"
      },
      "source": [
        "## 8. Overfitting\n",
        "Overfitting adalah fenomena dalam machine learning di mana model belajar terlalu banyak detail dan noise dari data training, sehingga performanya sangat baik pada data training tetapi buruk pada data baru atau data uji (test data). Model overfit memiliki kompleksitas tinggi dan cenderung mengikuti data training terlalu ketat.\n",
        "\n",
        "### Penyebab Overfitting\n",
        "- Model Terlalu Kompleks: Model dengan terlalu banyak parameter atau layer cenderung overfit, terutama jika datanya tidak cukup besar untuk mendukung kompleksitas tersebut.\n",
        "- Data Terbatas: Ketika data training tidak cukup banyak atau tidak cukup bervariasi, model dapat menangkap noise dan outliers sebagai pola penting.\n",
        "- Training Terlalu Lama: Melatih model terlalu lama tanpa mekanisme regulasi dapat menyebabkan model overfit karena ia akan terus mengoptimalkan dirinya untuk data training.\n",
        "- Fitur Tidak Relevan: Menggunakan terlalu banyak fitur yang tidak relevan atau sangat berkorelasi dapat menyebabkan overfitting.\n",
        "\n",
        "### Dampak Overfitting\n",
        "- Generalization Error: Model tidak mampu generalisasi dengan baik ke data baru, sehingga performa di dunia nyata menjadi buruk.\n",
        "- Kurang Robust: Model menjadi tidak stabil dan sensitif terhadap data baru atau sedikit perubahan dalam data.\n",
        "\n",
        "### Cara Mengatasi Overfitting\n",
        "- Regularisasi: Menambahkan penalti terhadap kompleksitas model dalam fungsi loss, seperti L1 (Lasso) dan L2 (Ridge) regularization.\n",
        "- Cross-Validation: Menggunakan teknik seperti k-fold cross-validation untuk memastikan model tidak hanya perform baik pada subset data tertentu.\n",
        "- Early Stopping: Menghentikan training lebih awal jika performa pada validation set tidak meningkat lagi.\n",
        "- Data Augmentation: Memperbanyak data training dengan variasi yang dihasilkan dari data yang ada, terutama dalam tugas pengenalan gambar.\n",
        "- Dropout: Dalam neural networks, menggunakan teknik dropout di mana neuron dipilih secara acak untuk \"drop out\" selama training, yang membantu mencegah model dari terlalu bergantung pada neuron tertentu.\n",
        "- Sederhanakan Model: Mengurangi jumlah parameter atau layer dalam model untuk menurunkan kompleksitas.\n",
        "- Pruning: Dalam decision tree, memotong cabang yang tidak memberikan informasi penting untuk prediksi."
      ]
    },
    {
      "cell_type": "code",
      "execution_count": null,
      "metadata": {
        "id": "7FS1xe6Vdkvq"
      },
      "outputs": [],
      "source": [
        "# Regularisasi dengan L2 (Ridge Regression) di Scikit-learn\n",
        "import numpy as np\n",
        "import pandas as pd\n",
        "from sklearn.model_selection import train_test_split\n",
        "from sklearn.linear_model import Ridge\n",
        "from sklearn.metrics import mean_squared_error\n",
        "\n",
        "# Membuat data sampel\n",
        "X = np.random.rand(100, 5)\n",
        "y = 3*X[:, 0] + 2*X[:, 1] + np.random.randn(100) * 0.1\n",
        "\n",
        "# Split data menjadi train dan test\n",
        "X_train, X_test, y_train, y_test = train_test_split(X, y, test_size=0.2, random_state=42)\n",
        "\n",
        "# Melatih model dengan Ridge Regression\n",
        "ridge_reg = Ridge(alpha=1.0)\n",
        "ridge_reg.fit(X_train, y_train)\n",
        "\n",
        "# Prediksi dan evaluasi\n",
        "y_pred_train = ridge_reg.predict(X_train)\n",
        "y_pred_test = ridge_reg.predict(X_test)\n",
        "\n",
        "print(\"Train MSE:\", mean_squared_error(y_train, y_pred_train))\n",
        "print(\"Test MSE:\", mean_squared_error(y_test, y_pred_test))\n"
      ]
    },
    {
      "cell_type": "code",
      "execution_count": null,
      "metadata": {
        "id": "N62NOr4Edkvq"
      },
      "outputs": [],
      "source": [
        "# Early Stopping dengan Keras\n",
        "import numpy as np\n",
        "from tensorflow.keras.models import Sequential\n",
        "from tensorflow.keras.layers import Dense\n",
        "from tensorflow.keras.callbacks import EarlyStopping\n",
        "\n",
        "# Membuat data sampel\n",
        "X_train = np.random.rand(1000, 20)\n",
        "y_train = np.random.randint(2, size=(1000, 1))\n",
        "X_val = np.random.rand(200, 20)\n",
        "y_val = np.random.randint(2, size=(200, 1))\n",
        "\n",
        "# Membangun model sederhana\n",
        "model = Sequential()\n",
        "model.add(Dense(64, activation='relu', input_dim=20))\n",
        "model.add(Dense(64, activation='relu'))\n",
        "model.add(Dense(1, activation='sigmoid'))\n",
        "\n",
        "# Kompilasi model\n",
        "model.compile(optimizer='adam', loss='binary_crossentropy', metrics=['accuracy'])\n",
        "\n",
        "# Menggunakan early stopping\n",
        "early_stopping = EarlyStopping(monitor='val_loss', patience=5, restore_best_weights=True)\n",
        "\n",
        "# Melatih model\n",
        "history = model.fit(X_train, y_train, epochs=100, batch_size=32, validation_data=(X_val, y_val), callbacks=[early_stopping])\n",
        "\n",
        "# Menampilkan ringkasan model\n",
        "print(model.summary())\n"
      ]
    },
    {
      "cell_type": "code",
      "execution_count": null,
      "metadata": {
        "id": "JDlXmG1Udkvq"
      },
      "outputs": [],
      "source": [
        "# Droout dengan Keras\n",
        "import numpy as np\n",
        "from tensorflow.keras.models import Sequential\n",
        "from tensorflow.keras.layers import Dense, Dropout\n",
        "\n",
        "# Membuat data sampel\n",
        "X_train = np.random.rand(1000, 20)\n",
        "y_train = np.random.randint(2, size=(1000, 1))\n",
        "X_val = np.random.rand(200, 20)\n",
        "y_val = np.random.randint(2, size=(200, 1))\n",
        "\n",
        "# Membangun model dengan Dropout\n",
        "model = Sequential()\n",
        "model.add(Dense(64, activation='relu', input_dim=20))\n",
        "model.add(Dropout(0.5))\n",
        "model.add(Dense(64, activation='relu'))\n",
        "model.add(Dropout(0.5))\n",
        "model.add(Dense(1, activation='sigmoid'))\n",
        "\n",
        "# Kompilasi model\n",
        "model.compile(optimizer='adam', loss='binary_crossentropy', metrics=['accuracy'])\n",
        "\n",
        "# Melatih model\n",
        "history = model.fit(X_train, y_train, epochs=100, batch_size=32, validation_data=(X_val, y_val))\n",
        "\n",
        "# Menampilkan ringkasan model\n",
        "print(model.summary())\n"
      ]
    },
    {
      "cell_type": "markdown",
      "metadata": {
        "id": "L0jafLnHdkvq"
      },
      "source": [
        "Overfitting adalah masalah umum dalam machine learning yang dapat mengurangi kemampuan model untuk generalisasi ke data baru. Namun, dengan teknik seperti regularisasi, cross-validation, early stopping, data augmentation, dropout, dan penyederhanaan model, kita dapat mengurangi risiko overfitting dan meningkatkan performa model pada data baru."
      ]
    }
  ],
  "metadata": {
    "kernelspec": {
      "display_name": "Python 3",
      "language": "python",
      "name": "python3"
    },
    "language_info": {
      "codemirror_mode": {
        "name": "ipython",
        "version": 3
      },
      "file_extension": ".py",
      "mimetype": "text/x-python",
      "name": "python",
      "nbconvert_exporter": "python",
      "pygments_lexer": "ipython3",
      "version": "3.10.7"
    },
    "colab": {
      "provenance": []
    }
  },
  "nbformat": 4,
  "nbformat_minor": 0
}