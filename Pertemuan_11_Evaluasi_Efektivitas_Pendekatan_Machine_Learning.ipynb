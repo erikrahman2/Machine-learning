{
  "cells": [
    {
      "cell_type": "markdown",
      "metadata": {
        "id": "_bNIoYRFDLWK"
      },
      "source": [
        "# Pertemuan 11 - Evaluasi Efektivitas Pendekatan Machine Learning\n",
        "\n",
        "## Capaian Pembelajaran:\n",
        "> 4.1: Mampu mengukur dan mengevaluasi efektivitas berbagai pendekatan machine learning dengan membandingkan metrik kinerja seperti accuracy, precision, recall, F1-score, dan ROC-AUC.\n",
        "\n",
        "## Pokok Bahasan\n",
        "1. Metrik Kinerja Model\n",
        "2. Accuracy\n",
        "3. Precision\n",
        "4. Recall\n",
        "5. F1-Score\n",
        "6. ROC-AUC\n"
      ]
    },
    {
      "cell_type": "markdown",
      "metadata": {
        "id": "OuR3Mi5xDLWL"
      },
      "source": [
        "## 1. Metrik Kinerja Model\n",
        "Metrik kinerja model adalah alat yang digunakan untuk mengevaluasi seberapa baik sebuah model machine learning dalam melakukan prediksi atau klasifikasi. Metrik ini membantu kita memahami kekuatan dan kelemahan model dan menentukan apakah model siap digunakan dalam produksi. Berikut adalah beberapa metrik kinerja yang umum digunakan, terutama untuk tugas klasifikasi dan regresi."
      ]
    },
    {
      "cell_type": "markdown",
      "metadata": {
        "id": "_JUiXB32DLWL"
      },
      "source": [
        "## 2. Accuracy\n",
        "Akurasi adalah persentase prediksi yang benar dari keseluruhan prediksi. Akurasi sering digunakan sebagai metrik awal, tetapi mungkin tidak cukup jika dataset tidak seimbang.\n",
        "\n",
        "![image.png](attachment:image.png)"
      ]
    },
    {
      "cell_type": "markdown",
      "metadata": {
        "id": "U5GHGsyWDLWL"
      },
      "source": [
        "## 3. Precision\n",
        "Presisi adalah rasio prediksi positif yang benar terhadap semua prediksi positif. Ini menunjukkan seberapa banyak prediksi positif yang benar-benar relevan.\n",
        "![image.png](attachment:image.png)"
      ]
    },
    {
      "cell_type": "markdown",
      "metadata": {
        "id": "O8_jIUi5DLWM"
      },
      "source": [
        "## 4. Recall\n",
        "Recall adalah rasio prediksi positif yang benar terhadap semua sampel yang sebenarnya positif. Ini menunjukkan seberapa baik model dalam menemukan semua sampel yang relevan.\n",
        "\n",
        "![image.png](attachment:image.png)"
      ]
    },
    {
      "cell_type": "markdown",
      "metadata": {
        "id": "_Rt3JOnzDLWM"
      },
      "source": [
        "## 5. F1-Score\n",
        "F1 Score adalah rata-rata harmonis dari presisi dan recall. Ini memberikan keseimbangan antara presisi dan recall.\n",
        "\n",
        "![image.png](attachment:image.png)"
      ]
    },
    {
      "cell_type": "markdown",
      "metadata": {
        "id": "7wJjJYt3DLWM"
      },
      "source": [
        "## 6. ROC-AUC\n",
        "AUC-ROC adalah metrik yang menunjukkan kinerja model klasifikasi pada berbagai threshold. ROC adalah kurva yang menunjukkan trade-off antara true positive rate (recall) dan false positive rate. AUC adalah area di bawah kurva ini, dengan nilai maksimum 1 menunjukkan kinerja sempurna."
      ]
    },
    {
      "cell_type": "markdown",
      "metadata": {
        "id": "Pehs8RRpDLWN"
      },
      "source": [
        "### Implementasi Metrik Kinerja dengan Python"
      ]
    },
    {
      "cell_type": "code",
      "execution_count": null,
      "metadata": {
        "colab": {
          "base_uri": "https://localhost:8080/"
        },
        "id": "S2S1XY13DLWN",
        "outputId": "dadb9433-f3f3-44ca-cfa8-d9a7b9d5a1e3"
      },
      "outputs": [
        {
          "output_type": "stream",
          "name": "stdout",
          "text": [
            "Accuracy: 0.46\n",
            "Precision: 0.45\n",
            "Recall: 0.6702127659574468\n",
            "F1 Score: 0.5384615384615384\n",
            "AUC-ROC: 0.49919710959454033\n",
            "Mean Absolute Error: 0.07897613360058567\n",
            "Mean Squared Error: 0.010257194100467833\n",
            "Root Mean Squared Error: 0.10127780655438699\n"
          ]
        }
      ],
      "source": [
        "import numpy as np\n",
        "import pandas as pd\n",
        "from sklearn.model_selection import train_test_split\n",
        "from sklearn.linear_model import LogisticRegression, LinearRegression\n",
        "from sklearn.metrics import accuracy_score, precision_score, recall_score, f1_score, roc_auc_score\n",
        "from sklearn.metrics import mean_absolute_error, mean_squared_error\n",
        "\n",
        "# Membuat data sampel untuk klasifikasi\n",
        "X_class = np.random.rand(1000, 10)\n",
        "y_class = np.random.randint(2, size=1000)\n",
        "\n",
        "# Split data menjadi train dan test\n",
        "X_train_class, X_test_class, y_train_class, y_test_class = train_test_split(X_class, y_class, test_size=0.2, random_state=42)\n",
        "\n",
        "# Melatih model klasifikasi\n",
        "model_class = LogisticRegression()\n",
        "model_class.fit(X_train_class, y_train_class)\n",
        "\n",
        "# Prediksi\n",
        "y_pred_class = model_class.predict(X_test_class)\n",
        "y_prob_class = model_class.predict_proba(X_test_class)[:, 1]\n",
        "\n",
        "# Metrik Klasifikasi\n",
        "print(\"Accuracy:\", accuracy_score(y_test_class, y_pred_class))\n",
        "print(\"Precision:\", precision_score(y_test_class, y_pred_class))\n",
        "print(\"Recall:\", recall_score(y_test_class, y_pred_class))\n",
        "print(\"F1 Score:\", f1_score(y_test_class, y_pred_class))\n",
        "print(\"AUC-ROC:\", roc_auc_score(y_test_class, y_prob_class))\n",
        "\n",
        "# Membuat data sampel untuk regresi\n",
        "X_reg = np.random.rand(1000, 10)\n",
        "y_reg = 3 * X_reg[:, 0] + 2 * X_reg[:, 1] + np.random.randn(1000) * 0.1\n",
        "\n",
        "# Split data menjadi train dan test\n",
        "X_train_reg, X_test_reg, y_train_reg, y_test_reg = train_test_split(X_reg, y_reg, test_size=0.2, random_state=42)\n",
        "\n",
        "# Melatih model regresi\n",
        "model_reg = LinearRegression()\n",
        "model_reg.fit(X_train_reg, y_train_reg)\n",
        "\n",
        "# Prediksi\n",
        "y_pred_reg = model_reg.predict(X_test_reg)\n",
        "\n",
        "# Metrik Regresi\n",
        "print(\"Mean Absolute Error:\", mean_absolute_error(y_test_reg, y_pred_reg))\n",
        "print(\"Mean Squared Error:\", mean_squared_error(y_test_reg, y_pred_reg))\n",
        "print(\"Root Mean Squared Error:\", np.sqrt(mean_squared_error(y_test_reg, y_pred_reg)))\n"
      ]
    },
    {
      "cell_type": "markdown",
      "metadata": {
        "id": "dvaQ9F_9DLWP"
      },
      "source": [
        "Metrik kinerja model sangat penting untuk mengevaluasi dan memahami performa model machine learning. Metrik-metrik seperti akurasi, presisi, recall, F1 score, AUC-ROC untuk klasifikasi, serta MAE, MSE, dan RMSE untuk regresi, memberikan pandangan yang komprehensif tentang seberapa baik model melakukan tugasnya dan membantu dalam perbaikan dan optimisasi model."
      ]
    }
  ],
  "metadata": {
    "kernelspec": {
      "display_name": "Python 3",
      "language": "python",
      "name": "python3"
    },
    "language_info": {
      "codemirror_mode": {
        "name": "ipython",
        "version": 3
      },
      "file_extension": ".py",
      "mimetype": "text/x-python",
      "name": "python",
      "nbconvert_exporter": "python",
      "pygments_lexer": "ipython3",
      "version": "3.10.7"
    },
    "colab": {
      "provenance": []
    }
  },
  "nbformat": 4,
  "nbformat_minor": 0
}